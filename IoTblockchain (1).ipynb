{
 "cells": [
  {
   "cell_type": "markdown",
   "metadata": {},
   "source": [
    "# Applying Blockchain to IoT \n",
    "### Done by: Sumaya Altamimi\n",
    "\n",
    "Recent explosion of interest around block chain technology, high demanding IoT devices, the importance, need, and future direction in these fields one may think  whether they make a good fit for the Internet of Things (IoT) sector and how to combine them to achieve perfect secrecy, or at least a more robust security in IoT. The combination of blockchain and IoT might be powerful and might be a good start to more significant businesses and models. There might be several research approaches that have a huge impact for the future of the IoT security. However, because of the success of Bitcoin, and the fact that it is expected for the blockchain (BC) to drive economic change on a global scale, I found BC is so attractive to dives in and apply in IOT. It is expected for the Blockchain to solve a single point of failure."
   ]
  },
  {
   "cell_type": "markdown",
   "metadata": {},
   "source": [
    "## Table of contents\n",
    "\n",
    "1. [Hash function and mining](#mining)\n",
    "3. [Device Simulation](#device)\n",
    "4. [Processes](#process)\n",
    "5. [Blocks](#block)\n",
    "8. [Differences with Blockchain in Bitcoin](#differences)\n",
    "9. [References](#references)"
   ]
  },
  {
   "cell_type": "code",
   "execution_count": 1,
   "metadata": {},
   "outputs": [],
   "source": [
    "import hashlib\n",
    "import random\n",
    "import string\n",
    "import json\n",
    "import binascii\n",
    "import numpy as np\n",
    "import pandas as pd\n",
    "import pylab as pl\n",
    "import logging\n",
    "%matplotlib inline\n",
    "import Crypto\n",
    "import Crypto.Random\n",
    "from Crypto.Hash import SHA\n",
    "from Crypto.PublicKey import RSA\n",
    "from Crypto.Signature import PKCS1_v1_5"
   ]
  },
  {
   "cell_type": "markdown",
   "metadata": {},
   "source": [
    "# Hash function and mining <a name=\"mining\"></a>\n",
    "\n",
    "So we'll start a little backward and start with the miner implementation.\n",
    "For the example here, we'll use the SHA256 hash function because it's readily implemented in python. Note that bitcoin uses [two round of SHA256](https://en.bitcoin.it/wiki/Hashcash) instead of one.\n",
    "\n",
    "So our hash function will turn a string of arbitrary length into a fixed-length string of 64 hexadecimal characters. For example :"
   ]
  },
  {
   "cell_type": "code",
   "execution_count": 2,
   "metadata": {},
   "outputs": [],
   "source": [
    "def sha256(message):\n",
    "    return hashlib.sha256(message.encode('ascii')).hexdigest()\n",
    "\n",
    "def iot_hash(message):\n",
    "    \"\"\"\n",
    "    Returns an hexadecimal hash\n",
    "    \"\"\"\n",
    "    return sha256(message)\n",
    "\n",
    "\n",
    "def mine(message, difficulty=1):\n",
    "    \"\"\"\n",
    "    Given an input string, will return a nonce such that\n",
    "    hash(string + nonce) starts with `difficulty` ones\n",
    "    \n",
    "    Returns: (nonce, niters)\n",
    "        nonce: The found nonce\n",
    "        niters: The number of iterations required to find the nonce\n",
    "    \"\"\"\n",
    "    assert difficulty >= 1, \"Difficulty of 0 is not possible\"\n",
    "    i = 0\n",
    "    prefix = '1' * difficulty\n",
    "    while True:\n",
    "        nonce = str(i)\n",
    "        digest = iot_hash(message + nonce)\n",
    "        if digest.startswith(prefix):\n",
    "            return nonce, i\n",
    "        i += 1"
   ]
  },
  {
   "cell_type": "markdown",
   "metadata": {},
   "source": [
    "### Test"
   ]
  },
  {
   "cell_type": "markdown",
   "metadata": {},
   "source": [
    "The more you increase the number of leading ones you require, the harder it becomes (on average) to find a nonce. In bitcoin, this is called the mining difficulty. Note that bitcoin doesn't require a number of leading digits, but instead requires the hash to be below a certain value. But it's the same idea.\n",
    "\n",
    "So let's define two functions that we'll reuse later : one to hash a string and one to mine a nonce for a given string.\n",
    "\n",
    "Now, the process of *mining* is : given an arbitrary string $x$, find a nonce such that $hash(x + nonce)$ produces a hash starting with a number of leading ones.\n",
    "\n",
    "For example here, we'll \"mine\" a nonce such that the hash of our message (\"hello bitcoin\") when concatenated with our nonce will have at least 2 leading ones."
   ]
  },
  {
   "cell_type": "code",
   "execution_count": 41,
   "metadata": {},
   "outputs": [
    {
     "name": "stdout",
     "output_type": "stream",
     "text": [
      "Found nonce = 86\n",
      "1141c060951047f3618234d08334ba76c86d4b757caac2cbeebbe1925d67a921\n"
     ]
    }
   ],
   "source": [
    "message = 'IoT-BC'\n",
    "for nonce in range(1000):\n",
    "    digest = sha256(message + str(nonce))\n",
    "    if digest.startswith('11'):\n",
    "        print('Found nonce = %d' % nonce)\n",
    "        break\n",
    "print(sha256(message + str(nonce)))"
   ]
  },
  {
   "cell_type": "markdown",
   "metadata": {},
   "source": [
    "Mine nonce of varied difficulty :"
   ]
  },
  {
   "cell_type": "code",
   "execution_count": 42,
   "metadata": {},
   "outputs": [
    {
     "name": "stdout",
     "output_type": "stream",
     "text": [
      "Took 12 iterations\n",
      "Took 277 iterations\n"
     ]
    }
   ],
   "source": [
    "nonce, niters = mine('IoT-BC', difficulty=1)\n",
    "print('Took %d iterations' % niters)\n",
    "\n",
    "nonce, niters = mine('IoT-BC', difficulty=3)\n",
    "print('Took %d iterations' % niters)"
   ]
  },
  {
   "cell_type": "markdown",
   "metadata": {},
   "source": [
    "As you can see in this example, the number of iterations required for a difficulty of 3 is much larger than for a difficulty of 1. Note though that you could get lucky and have a string where the first nonce (0 in our case) would yield the solution. So the difficulty controls the *average* number of tries. We can do a nice plot of that"
   ]
  },
  {
   "cell_type": "markdown",
   "metadata": {},
   "source": [
    "# Device simulation <a name=\"device\"></a>"
   ]
  },
  {
   "cell_type": "markdown",
   "metadata": {},
   "source": [
    "Each IoT device should has a private/public key pair. <br>\n",
    " \n",
    "The public key is used to receive data and the private key is used to process data.\n",
    "\n",
    "By signing a message with our private key,anybody else can verify the signature using our public key.\n",
    "\n",
    "Note that the actual blockchain is more complicated.\n",
    "\n",
    "A blockchain is a set of multiple private/public key pairs, and an address is not directly the public key. \n",
    "\n",
    "This ensures better privacy and security, but for IoT implementation proposal, we'll use a single key and use the public key as the address."
   ]
  },
  {
   "cell_type": "code",
   "execution_count": 5,
   "metadata": {},
   "outputs": [],
   "source": [
    "class Device(object):\n",
    "    \"\"\"\n",
    "    A device has a private/public key pair\n",
    "    \"\"\"\n",
    "    def __init__(self):\n",
    "        random_gen = Crypto.Random.new().read\n",
    "        self._private_key = RSA.generate(1024, random_gen)\n",
    "        self._public_key = self._private_key.publickey()\n",
    "        self._signer = PKCS1_v1_5.new(self._private_key)\n",
    "        \n",
    "    @property\n",
    "    def address(self):\n",
    "        \"\"\"We take a shortcut and say address is public key\"\"\"\n",
    "        return binascii.hexlify(self._public_key.exportKey(format='DER')).decode('ascii')\n",
    "    \n",
    "    def sign(self, message):\n",
    "        \"\"\"\n",
    "        Sign a message with this wallet\n",
    "        \"\"\"\n",
    "        h = SHA.new(message.encode('utf8'))\n",
    "        return binascii.hexlify(self._signer.sign(h)).decode('ascii')\n",
    "    "
   ]
  },
  {
   "cell_type": "code",
   "execution_count": 6,
   "metadata": {},
   "outputs": [],
   "source": [
    "def verify_signature(device_address, message, signature):\n",
    "    \"\"\"\n",
    "    Check that the provided `signature` corresponds to `message`\n",
    "    signed by the device at `device_address`\n",
    "    \"\"\"\n",
    "    pubkey = RSA.importKey(binascii.unhexlify(device_address))\n",
    "    verifier = PKCS1_v1_5.new(pubkey)\n",
    "    h = SHA.new(message.encode('utf8'))\n",
    "    return verifier.verify(h, binascii.unhexlify(signature))"
   ]
  },
  {
   "cell_type": "markdown",
   "metadata": {},
   "source": [
    "### Test"
   ]
  },
  {
   "cell_type": "code",
   "execution_count": 7,
   "metadata": {},
   "outputs": [],
   "source": [
    "# Check that the wallet signing functionality works\n",
    "d1 = Device()\n",
    "msg = 'hey'\n",
    "signature = d1.sign(msg)\n",
    "assert verify_signature(d1.address, msg, signature)\n",
    "assert not verify_signature(d1.address, 'rogue message', signature)"
   ]
  },
  {
   "cell_type": "markdown",
   "metadata": {},
   "source": [
    "# Process of Sending Messages <a name=\"process\"></a>"
   ]
  },
  {
   "cell_type": "markdown",
   "metadata": {},
   "source": [
    "To exchange messages between devices, we'll use Process. \n",
    "<br> A Process is composed of :\n",
    "- A **sender**, who will write and  sign  the message.\n",
    "- A **number of inputs**, which are other messages outputs. <br>\n",
    "The recipient of all those should be the sender's device.\n",
    "Otherwise you could see other people's data.\n",
    "- A **number of outputs**, each of which specify an **message** and a **recipient**"
   ]
  },
  {
   "cell_type": "code",
   "execution_count": 8,
   "metadata": {},
   "outputs": [],
   "source": [
    "class ProcessInput(object):\n",
    "    \"\"\"\n",
    "    An input for a Process. This points to an output of another process.\n",
    "    \"\"\"\n",
    "    def __init__(self, process, output_index):\n",
    "        self.process = process\n",
    "        self.output_index = output_index\n",
    "        assert 0 <= self.output_index < len(process.outputs)\n",
    "        \n",
    "    def to_dict(self):\n",
    "\n",
    "        d = {\n",
    "            'process': self.process.hash(),\n",
    "            'output_index': self.output_index\n",
    "        }\n",
    "        return d\n",
    "    \n",
    "    @property\n",
    "    def parent_output(self):\n",
    "        return self.process.outputs[self.output_index]\n",
    "    "
   ]
  },
  {
   "cell_type": "code",
   "execution_count": 9,
   "metadata": {},
   "outputs": [],
   "source": [
    "class ProcessOutput(object):\n",
    "    \"\"\"\n",
    "    An output for a Process. This specifies the message and a recipient device\n",
    "    \"\"\"\n",
    "    def __init__(self, recipient_address, message):\n",
    "        self.recipient = recipient_address\n",
    "        self.message = message\n",
    "        \n",
    "    def to_dict(self):\n",
    "        d = {\n",
    "            'recipient_address': self.recipient,\n",
    "            'message': self.message\n",
    "        }\n",
    "        return d"
   ]
  },
  {
   "cell_type": "code",
   "execution_count": 10,
   "metadata": {},
   "outputs": [],
   "source": [
    "class Process(object):\n",
    "    def __init__(self, device, inputs, outputs):\n",
    "        \"\"\"\n",
    "        Create a process of sending message from the provided device\n",
    "        \"\"\"\n",
    "        self.inputs = inputs\n",
    "        self.outputs = outputs\n",
    "        self.signature = device.sign(json.dumps(self.to_dict(include_signature=False)))\n",
    "        \n",
    "    def to_dict(self, include_signature=True):\n",
    "        d = {\n",
    "            \"inputs\": list(map(ProcessInput.to_dict, self.inputs)),\n",
    "            \"outputs\": list(map(ProcessOutput.to_dict, self.outputs))\n",
    "        }\n",
    "        if include_signature:\n",
    "            d[\"signature\"] = self.signature\n",
    "        return d\n",
    "    \n",
    "    def hash(self):\n",
    "        return iot_hash(json.dumps(self.to_dict()))"
   ]
  },
  {
   "cell_type": "markdown",
   "metadata": {},
   "source": [
    "Since all processes need a parent, we also need a root in our hierarchy.<br>\n",
    "This will be the **RootProcess**."
   ]
  },
  {
   "cell_type": "code",
   "execution_count": 11,
   "metadata": {},
   "outputs": [],
   "source": [
    "class RootProcess(Process):\n",
    "    \n",
    "    \"\"\"\n",
    "    This is the first process. which is a special process\n",
    "    with no input and 'first process' message output\n",
    "    \"\"\"\n",
    "    def __init__(self, recipient_address, message='first process'):\n",
    "        self.inputs = []\n",
    "        self.outputs = [\n",
    "        ProcessOutput(recipient_address, message)\n",
    "        ]\n",
    "        self.signature = 'genesis'\n",
    "        \n",
    "    def to_dict(self, include_signature=False):\n",
    "        # TODO: Instead, should sign root process with well-known public key ?\n",
    "        assert not include_signature, \"Cannot include signature of root process\"\n",
    "        return super().to_dict(include_signature=False)"
   ]
  },
  {
   "cell_type": "markdown",
   "metadata": {},
   "source": [
    "### Make process between alice, bob and walter"
   ]
  },
  {
   "cell_type": "code",
   "execution_count": 12,
   "metadata": {},
   "outputs": [],
   "source": [
    "alice = Device()\n",
    "bob = Device()\n",
    "walter = Device()"
   ]
  },
  {
   "cell_type": "code",
   "execution_count": 13,
   "metadata": {
    "scrolled": true
   },
   "outputs": [],
   "source": [
    "p1 = RootProcess(alice.address,'I am Alice')\n",
    "\n",
    "p2 = Process(alice, [ProcessInput(p1, 0)], [ProcessOutput(bob.address, 'Hello Bob')])\n",
    "# Alice --Hi --> Bob\n",
    "#       -- Hi --> Walter\n",
    "p3 = Process( alice, [ProcessInput(p1, 0)],\n",
    "    [ProcessOutput(bob.address, 'Hi Bob'), ProcessOutput(walter.address, 'Hi Walter')]\n",
    ")\n",
    "\n",
    "# # Walter -- Hi --> Bob\n",
    "# indexes : which process sent me ? and in which order I listed in that process?\n",
    "p4 = Process(walter, [ProcessInput(p3, 1)],[ProcessOutput(bob.address, 'Hi Bob')])\n",
    "\n",
    "## Bob -- Hi --> Walter\n",
    "p5 = Process( \n",
    "    bob,[ProcessInput(p2, 0), ProcessInput(p3, 0),ProcessInput(p4, 0)],\n",
    "    [ProcessOutput(walter.address, 'Hi Walter')]\n",
    ")\n",
    "\n",
    "processes = [p1, p2, p3, p4 , p5]"
   ]
  },
  {
   "cell_type": "markdown",
   "metadata": {},
   "source": [
    "In blockchain, you never store all messages in your device.<br>\n",
    "Instead, you go through the whole chain of proceesses to view all your messages .<br> Let's write a function to do that"
   ]
  },
  {
   "cell_type": "code",
   "execution_count": 14,
   "metadata": {},
   "outputs": [],
   "source": [
    "def view_messages(device_address, processes):\n",
    "    \"\"\"\n",
    "    Given an address and a list of processes,\n",
    "    view messages of the address\n",
    "    \"\"\"\n",
    "    messages = []\n",
    "    for p in processes:\n",
    "        for prout in p.outputs:\n",
    "            if prout.recipient == device_address:\n",
    "                messages.append(prout.message)\n",
    "    return messages"
   ]
  },
  {
   "cell_type": "markdown",
   "metadata": {},
   "source": [
    "### Test"
   ]
  },
  {
   "cell_type": "code",
   "execution_count": 15,
   "metadata": {},
   "outputs": [
    {
     "name": "stdout",
     "output_type": "stream",
     "text": [
      "Alice  has messages ['I am Alice'] \n",
      "\n",
      "Bob    has messages ['Hello Bob', 'Hi Bob', 'Hi Bob'] \n",
      "\n",
      "Walter has messages ['Hi Walter', 'Hi Walter'] \n",
      "\n"
     ]
    }
   ],
   "source": [
    "print(\"Alice  has messages\", view_messages(alice.address, processes),'\\n')\n",
    "print(\"Bob    has messages\" , view_messages(bob.address, processes),'\\n')\n",
    "print(\"Walter has messages\" , view_messages(walter.address, processes),'\\n')"
   ]
  },
  {
   "cell_type": "markdown",
   "metadata": {},
   "source": [
    "#### We also want to be able to verify that a process is valid. This means :\n",
    "\n",
    "**All messages from a device address are sent by that device address.** <br>\n",
    "This means checking that:\n",
    "- all inputs are owned by the device's owner\n",
    "- That the process is signed by the owner of the device"
   ]
  },
  {
   "cell_type": "code",
   "execution_count": 16,
   "metadata": {},
   "outputs": [],
   "source": [
    "def verify_process(process):\n",
    "    \n",
    "    pr_message = json.dumps(process.to_dict(include_signature=False)) #outputs & inputs\n",
    "    \n",
    "    if isinstance(process, RootProcess):\n",
    "        # TODO: We should probably be more careful about validating first process\n",
    "        return True\n",
    "\n",
    "    # (1) Verify input processes\n",
    "    for px in process.inputs:\n",
    "        if not verify_process(px.process):\n",
    "            logging.error(\"Invalid parent process\")\n",
    "            return False\n",
    "        \n",
    "    first_input_address = process.inputs[0].parent_output.recipient    \n",
    "    for prin in process.inputs[1:]:\n",
    "        if prin.parent_output.recipient != first_input_address:\n",
    "            logging.error(\n",
    "                \"Process inputs belong to multiple devices (%s and %s)\" %\n",
    "                (prin.parent_output.recipient, first_input_address)\n",
    "            )\n",
    "        return False\n",
    "       \n",
    "    # (ii) Verify signature\n",
    "    if not verify_signature(first_input_address, pr_message, process.signature):\n",
    "        logging.error(\"Invalid process signature, trying to send by someone else's address ?\")\n",
    "        return False\n",
    "    \n",
    "\n",
    "    return True"
   ]
  },
  {
   "cell_type": "markdown",
   "metadata": {},
   "source": [
    "#### Will make invalid process p3:\n",
    "**Bob** is trying to send using **Alice**'s \n",
    ", **Alice** was the recipient of the input - p1"
   ]
  },
  {
   "cell_type": "code",
   "execution_count": 17,
   "metadata": {},
   "outputs": [],
   "source": [
    "p1 = RootProcess(alice.address,'Actual Alice')\n",
    "\n",
    "p2 = Process(alice, [ProcessInput(p1, 0)], [ProcessOutput(walter.address, 'Hi walter')])\n",
    "\n",
    "p3 = Process(bob, [ProcessInput(p1, 0)],[ProcessOutput(walter.address, 'Hi walter')])\n",
    "\n",
    "processes = [p1, p2, p3]"
   ]
  },
  {
   "cell_type": "markdown",
   "metadata": {},
   "source": [
    "## Test"
   ]
  },
  {
   "cell_type": "code",
   "execution_count": 18,
   "metadata": {},
   "outputs": [],
   "source": [
    "assert verify_process(p1)"
   ]
  },
  {
   "cell_type": "code",
   "execution_count": 19,
   "metadata": {},
   "outputs": [],
   "source": [
    "assert verify_process(p2)"
   ]
  },
  {
   "cell_type": "code",
   "execution_count": 20,
   "metadata": {},
   "outputs": [
    {
     "name": "stderr",
     "output_type": "stream",
     "text": [
      "ERROR:root:Invalid process signature, trying to send by someone else's address ?\n"
     ]
    },
    {
     "ename": "AssertionError",
     "evalue": "",
     "output_type": "error",
     "traceback": [
      "\u001b[0;31m---------------------------------------------------------------------------\u001b[0m",
      "\u001b[0;31mAssertionError\u001b[0m                            Traceback (most recent call last)",
      "\u001b[0;32m<ipython-input-20-1eb3d15f25a5>\u001b[0m in \u001b[0;36m<module>\u001b[0;34m\u001b[0m\n\u001b[0;32m----> 1\u001b[0;31m \u001b[0;32massert\u001b[0m \u001b[0mverify_process\u001b[0m\u001b[0;34m(\u001b[0m\u001b[0mp3\u001b[0m\u001b[0;34m)\u001b[0m\u001b[0;34m\u001b[0m\u001b[0;34m\u001b[0m\u001b[0m\n\u001b[0m",
      "\u001b[0;31mAssertionError\u001b[0m: "
     ]
    }
   ],
   "source": [
    "assert verify_process(p3)"
   ]
  },
  {
   "cell_type": "markdown",
   "metadata": {},
   "source": [
    "# Putting Processes in blocks <a name=\"block\"></a>"
   ]
  },
  {
   "cell_type": "markdown",
   "metadata": {},
   "source": [
    "Now that we have :\n",
    "\n",
    "- A way to define a device (as a private/public key pair)\n",
    "- A way to create process between devices\n",
    "- A way to verify processes (by checking the signature matches)\n",
    "\n",
    "What remains is to group processes into blocks and have miners mine blocks. <br>\n",
    "Mining a block consists of two parts :\n",
    "- Verifying the processes in the block\n",
    "- Finding a nonce such that the block's hash starts with a number of 0"
   ]
  },
  {
   "cell_type": "code",
   "execution_count": 21,
   "metadata": {},
   "outputs": [],
   "source": [
    "DIFFICULTY = 2"
   ]
  },
  {
   "cell_type": "code",
   "execution_count": 22,
   "metadata": {},
   "outputs": [],
   "source": [
    "class Block(object):\n",
    "    \n",
    "    def __init__(self, current_block_processes, previous_block, miner_device_address, skip_verif=False):\n",
    "\n",
    "        self.current_block_processes = [RootProcess(miner_device_address)] + current_block_processes\n",
    "        self.previous_block = previous_block\n",
    "        \n",
    "        if not skip_verif:\n",
    "            assert all(map(verify_process, current_block_processes))\n",
    "        \n",
    "        json_block = json.dumps(self.to_dict(include_hash=False))\n",
    "        self.nonce, _ = mine(json_block, DIFFICULTY)\n",
    "        self.hash = iot_hash(json_block + self.nonce)\n",
    "    \n",
    "    \n",
    "    def to_dict(self, include_hash=True):\n",
    "        d = {\n",
    "            \"processes\": list(map(Process.to_dict, self.current_block_processes)),\n",
    "            \"previous_block\": self.previous_block.hash,\n",
    "        }\n",
    "        if include_hash:\n",
    "            d[\"nonce\"] = self.nonce\n",
    "            d[\"hash\"] = self.hash\n",
    "        return d"
   ]
  },
  {
   "cell_type": "code",
   "execution_count": 23,
   "metadata": {},
   "outputs": [],
   "source": [
    "class FirstBlock(Block):\n",
    "    #This is the only block with no previous block\n",
    "    \n",
    "    def __init__(self, miner_device_address):\n",
    "        super(FirstBlock, self).__init__(current_block_processes=[], previous_block=None, miner_device_address=miner_device_address)\n",
    "\n",
    "    def to_dict(self, include_hash=True):\n",
    "        d = {\n",
    "            \"processes\": [],\n",
    "            \"first_block\": True,\n",
    "        }\n",
    "        if include_hash:\n",
    "            d[\"nonce\"] = self.nonce\n",
    "            d[\"hash\"] = self.hash\n",
    "        return d"
   ]
  },
  {
   "cell_type": "markdown",
   "metadata": {},
   "source": [
    "#### Verify blocks :\n",
    "Verifies that a block is valid :\n",
    "- (1) Verifies the hash **starts with** the required amount of **ones** (2 in our case)\n",
    "- (2) Verifies **all processes** are **valid**\n",
    "- (3) Verifies the **first process** in the block is a **RootProcess** "
   ]
  },
  {
   "cell_type": "code",
   "execution_count": 24,
   "metadata": {},
   "outputs": [],
   "source": [
    "def verify_block(block, first_block, used_outputs=None):\n",
    "    \n",
    "    \"\"\"\n",
    "    Args:\n",
    "    # block : The block to validate\n",
    "    # First_block is the first block which needs to be shared by everybody.\n",
    "    # E.g. hardcoded somewhere\n",
    "    # used_outputs: list of outputs used in processes for all blocks above this one\n",
    "    \"\"\"\n",
    "    if used_outputs is None:\n",
    "        used_outputs = set()\n",
    "    \n",
    "    # (1) Verify hash \n",
    "    prefix = '1' * DIFFICULTY\n",
    "    if not block.hash.startswith(prefix):\n",
    "        logging.error(\"Block hash (%s) doesn't start with prefix %s\" % (block.hash, prefix))\n",
    "        return False\n",
    "    \n",
    "    # (2.i) Processes are valid\n",
    "    if not all(map(verify_process, block.current_block_processes)):\n",
    "        return False\n",
    "\n",
    "    \n",
    "    # (2.ii) Verify previous blocks up to the first block\n",
    "    if not (block.hash == first_block.hash):\n",
    "        if not verify_block(block.previous_block, first_block, used_outputs):\n",
    "            logging.error(\"Failed to validate ancestor block\")\n",
    "            return False\n",
    "    \n",
    "    # (3.i) Verify the first process is the RootProcess\n",
    "    pr0 = block.current_block_processes[0]\n",
    "    if not isinstance(pr0, RootProcess):\n",
    "        logging.error(\"Process 0 is not a RootProcess\")\n",
    "        return False\n",
    "\n",
    "    \n",
    "    # (3.ii) Only the first process shall be a RootProcess\n",
    "    for i, pr in enumerate(block.current_block_processes):\n",
    "        if i == 0:\n",
    "            if not isinstance(pr, RootProcess):\n",
    "                logging.error(\"Non-Root Process at index 0\")\n",
    "                return False  \n",
    "        elif isinstance(pr, RootProcess):\n",
    "            logging.error(\"RootProcess (hash=%s) at index %d != 0\", pr.hash(), i)\n",
    "            return False\n",
    "    return True"
   ]
  },
  {
   "cell_type": "markdown",
   "metadata": {},
   "source": [
    "## Test "
   ]
  },
  {
   "cell_type": "code",
   "execution_count": 25,
   "metadata": {
    "scrolled": true
   },
   "outputs": [],
   "source": [
    "alice = Device()\n",
    "bob = Device()\n",
    "walter = Device()"
   ]
  },
  {
   "cell_type": "code",
   "execution_count": 26,
   "metadata": {},
   "outputs": [],
   "source": [
    "first_block = FirstBlock(miner_device_address=alice.address) # Alice mined 1 block \n",
    "p1 = first_block.current_block_processes[0] #existing process (root)"
   ]
  },
  {
   "cell_type": "code",
   "execution_count": 27,
   "metadata": {},
   "outputs": [],
   "source": [
    "p2 = Process(\n",
    "    alice,\n",
    "    [ProcessInput(p1, 0)],\n",
    "    [ProcessOutput(bob.address, 'Hi Bob'),  ProcessOutput(walter.address, 'Hi walter')]\n",
    ")\n",
    "\n",
    "p3 = Process(\n",
    "    walter,\n",
    "    [ProcessInput(p2, 1)], \n",
    "    [ProcessOutput(bob.address, 'Hello Bob')])\n",
    "\n",
    "p4 = Process(\n",
    "    bob, \n",
    "    [ProcessInput(p2, 0)],\n",
    "    [ProcessOutput(walter.address, 'Hello walter')]\n",
    ")"
   ]
  },
  {
   "cell_type": "code",
   "execution_count": 28,
   "metadata": {},
   "outputs": [],
   "source": [
    "block1 = Block([p2,p3], previous_block=first_block, miner_device_address=bob.address)\n",
    "## Bob mined 1 block\n",
    "block2 = Block([p4], previous_block=block1, miner_device_address=walter.address) \n",
    "## Walter mined 1 block "
   ]
  },
  {
   "cell_type": "code",
   "execution_count": 31,
   "metadata": {},
   "outputs": [
    {
     "name": "stdout",
     "output_type": "stream",
     "text": [
      " First block  : 11658800373e1d8ae2237a4d216a1ed03553d1f5e0dac5c373808998c8af52f5\n",
      "block1        : 11aaca04eee9096d378b93c86a0cf9b10e9cda7a4a1e036715ead7ca3deb14e9\n",
      "block2        : 11c3b530b05c08cc7bada56681353fc165c4bcb23af5aaa62a48b110d79305fb\n"
     ]
    }
   ],
   "source": [
    "print(\" First block  : \" + first_block.hash)\n",
    "print(\"block1        : \" + block1.hash)\n",
    "print(\"block2        : \" + block2.hash)"
   ]
  },
  {
   "cell_type": "code",
   "execution_count": 32,
   "metadata": {},
   "outputs": [
    {
     "data": {
      "text/plain": [
       "True"
      ]
     },
     "execution_count": 32,
     "metadata": {},
     "output_type": "execute_result"
    }
   ],
   "source": [
    "verify_block(first_block, first_block)"
   ]
  },
  {
   "cell_type": "code",
   "execution_count": 33,
   "metadata": {},
   "outputs": [
    {
     "data": {
      "text/plain": [
       "True"
      ]
     },
     "execution_count": 33,
     "metadata": {},
     "output_type": "execute_result"
    }
   ],
   "source": [
    "verify_block(block1, first_block)"
   ]
  },
  {
   "cell_type": "code",
   "execution_count": 34,
   "metadata": {},
   "outputs": [
    {
     "data": {
      "text/plain": [
       "True"
      ]
     },
     "execution_count": 34,
     "metadata": {},
     "output_type": "execute_result"
    }
   ],
   "source": [
    "verify_block(block2, first_block)"
   ]
  },
  {
   "cell_type": "markdown",
   "metadata": {},
   "source": [
    "#### collect"
   ]
  },
  {
   "cell_type": "code",
   "execution_count": 37,
   "metadata": {},
   "outputs": [],
   "source": [
    "def process_chain(block, first_block):\n",
    "    \"\"\"Recursively collect processes in `block` & all \n",
    "    of its previous blocks to simulate BC of messages\"\"\"\n",
    "\n",
    "    processes = [] + block.current_block_processes\n",
    "    if block.hash != first_block.hash:\n",
    "        processes += process_chain(block.previous_block, first_block)\n",
    "    \n",
    "    return processes"
   ]
  },
  {
   "cell_type": "markdown",
   "metadata": {},
   "source": [
    "### test"
   ]
  },
  {
   "cell_type": "code",
   "execution_count": 38,
   "metadata": {},
   "outputs": [
    {
     "data": {
      "text/plain": [
       "[<__main__.RootProcess at 0x7fdc72cd3af0>,\n",
       " <__main__.Process at 0x7fdc72cd72e0>,\n",
       " <__main__.RootProcess at 0x7fdc72b6b070>,\n",
       " <__main__.Process at 0x7fdc72cd71f0>,\n",
       " <__main__.Process at 0x7fdc72cd7040>,\n",
       " <__main__.RootProcess at 0x7fdc70c35160>]"
      ]
     },
     "execution_count": 38,
     "metadata": {},
     "output_type": "execute_result"
    }
   ],
   "source": [
    "processes = process_chain(block2, first_block)\n",
    "processes"
   ]
  },
  {
   "cell_type": "code",
   "execution_count": 39,
   "metadata": {},
   "outputs": [
    {
     "name": "stdout",
     "output_type": "stream",
     "text": [
      "Alice has ['first process'] messages\n",
      "Walter has ['first process', 'Hello walter', 'Hi walter'] messages\n",
      "Bob has ['first process', 'Hi Bob', 'Hello Bob'] messages\n"
     ]
    }
   ],
   "source": [
    "print(\"Alice has %s messages\" % view_messages(alice.address, processes))\n",
    "print(\"Walter has %s messages\" % view_messages(walter.address, processes))\n",
    "print(\"Bob has %s messages\" % view_messages(bob.address, processes))"
   ]
  },
  {
   "cell_type": "markdown",
   "metadata": {},
   "source": [
    "# Main differences with real blockchain <a name=\"differences\"></a>\n",
    "\n",
    "Our goal is not to have a bitcoin implementation, nor conformant blockchain for IoT. <br>\n",
    "Many things are not implemented, The most important are :\n",
    "\n",
    "- This uses the wallet public key as its address. Bitcoin uses [more complicated addresses](https://en.bitcoin.it/wiki/Technical_background_of_version_1_Bitcoin_addresses)\n",
    "- Bitcoin uses ECDSA for signature, this uses RSA.\n",
    "- Bitcoin uses two rounds of SHA256, this uses one\n",
    "- Bitcoin transactions use a [scripting language](https://en.bitcoin.it/wiki/Script). Here we just have\n",
    "  simple transactions with one amount per output\n",
    "- Bitcoin requires a way to broadcast blocks to all the nodes. The whole communication part is left out from this    notebook.\n",
    "  See the [Client Node Discovery](https://en.bitcoin.it/wiki/Satoshi_Client_Node_Discovery) and [Protocol documentation](https://en.bitcoin.it/wiki/Protocol_documentation) pages on the bitcoin wiki\n",
    "- Bitcoin uses a [Merkle tree](https://en.wikipedia.org/wiki/Merkle_tree) to save disk space by pruning spent   \n",
    "  transactions.\n",
    "  "
   ]
  },
  {
   "cell_type": "markdown",
   "metadata": {},
   "source": [
    "## Security issues\n",
    "\n",
    "In addition to the differences above, there are a number of security issues with this implementation :\n",
    "- Use of floating point arithmetic can lead to many problems (e.g. loss of precisions).\n",
    "- The JSON serialization as implemented here is not reproducible across platforms.<br> For example, two serialization of the same transaction on two different platforms could produce two different JSON (line endings, keys ordering,   spaces).\n",
    "- The mine method implemented here can loop forever due to integer overflow."
   ]
  },
  {
   "cell_type": "markdown",
   "metadata": {},
   "source": [
    "## References <a name = 'references'></a>\n",
    "\n",
    "- [Bhavani Shankar](https://github.com/bshankar)\n",
    "- [original bitcoin](https://bitcoin.org/bitcoin.pdf) \n",
    "- [Michael Nielsen's bitcoin explanation](http://www.michaelnielsen.org/ddi/how-the-bitcoin-protocol-actually-works/).\n",
    "- [bitcoin wiki](https://en.bitcoin.it/wiki/Main_Page)\n"
   ]
  }
 ],
 "metadata": {
  "kernelspec": {
   "display_name": "Python 3",
   "language": "python",
   "name": "python3"
  },
  "language_info": {
   "codemirror_mode": {
    "name": "ipython",
    "version": 3
   },
   "file_extension": ".py",
   "mimetype": "text/x-python",
   "name": "python",
   "nbconvert_exporter": "python",
   "pygments_lexer": "ipython3",
   "version": "3.8.3"
  }
 },
 "nbformat": 4,
 "nbformat_minor": 4
}
